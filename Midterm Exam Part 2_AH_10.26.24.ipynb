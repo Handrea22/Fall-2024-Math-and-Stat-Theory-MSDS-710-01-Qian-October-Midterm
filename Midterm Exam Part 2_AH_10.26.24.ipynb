{
 "cells": [
  {
   "cell_type": "markdown",
   "metadata": {},
   "source": [
    "# Midterm Exam Part II (30 pts)"
   ]
  },
  {
   "cell_type": "code",
   "execution_count": 1,
   "metadata": {},
   "outputs": [],
   "source": [
    "import numpy as np"
   ]
  },
  {
   "cell_type": "markdown",
   "metadata": {},
   "source": [
    "### Question 1 (10 pts)"
   ]
  },
  {
   "cell_type": "markdown",
   "metadata": {},
   "source": [
    "Consider a system of linear equations:\n",
    "$$\\begin{cases} \n",
    "2x_1+x_2 -2x_3=5 \n",
    "\\\\ 2x_1+3x_2=4 \\\\\n",
    "3x_1-4x_3 = -6  \\end{cases}\\tag{1}$$"
   ]
  },
  {
   "cell_type": "code",
   "execution_count": 2,
   "metadata": {
    "scrolled": true
   },
   "outputs": [
    {
     "name": "stdout",
     "output_type": "stream",
     "text": [
      "[[ 2  1 -2]\n",
      " [ 2  3  0]\n",
      " [ 3  0 -4]]\n",
      "[ 5  4 -6]\n"
     ]
    }
   ],
   "source": [
    "# Define the matrix A as the coefficients of the linear equations\n",
    "A = np.array([[2, 1, -2], \n",
    "              [2, 3, 0], \n",
    "              [3, 0, -4]]) # Replacing None with your code. \n",
    "\n",
    "# Write your code to define C as the right hand side of the linear equations.\n",
    "C = np.array([5, 4, -6]) # Replacing None with your code.\n",
    "print(A)\n",
    "print(C)"
   ]
  },
  {
   "cell_type": "code",
   "execution_count": 3,
   "metadata": {},
   "outputs": [
    {
     "name": "stdout",
     "output_type": "stream",
     "text": [
      "[[-6.   2.   3. ]\n",
      " [ 4.  -1.  -2. ]\n",
      " [-4.5  1.5  2. ]]\n"
     ]
    }
   ],
   "source": [
    "# Write your code to calculate the solution of the linear equations using the \n",
    "# matrix inverse method. Do not directly use np.linalg.solve function.\n",
    "X = np.linalg.inv(A)\n",
    "# write your code by replacing None with your code.\n",
    "print(X)"
   ]
  },
  {
   "cell_type": "code",
   "execution_count": 5,
   "metadata": {},
   "outputs": [
    {
     "name": "stdout",
     "output_type": "stream",
     "text": [
      "[-40.   28.  -28.5]\n"
     ]
    }
   ],
   "source": [
    "#we can also use np.linalg.solve function to solve the system of linear equations\n",
    "X1 = np.linalg.solve(A,C) # write your code to solve the equation with \n",
    "            #np.linalg.solve function\n",
    "print(X1)"
   ]
  },
  {
   "cell_type": "markdown",
   "metadata": {},
   "source": [
    "### Question 2 (15 pts): \n",
    "\n",
    "Consider vectors:\n",
    "\n",
    "$x = \\begin{bmatrix} \n",
    "2 \\\\ 3 \\\\ 5 \\\\ -3 \\end{bmatrix}$, $y =\\begin{bmatrix} 3 \\\\ 1 \\\\ -2 \\\\ 2 \\end{bmatrix}$, $z =\\begin{bmatrix} 1 \\\\ 2 \\\\ -1 \\\\ 1 \\end{bmatrix}$, and $u =\\begin{bmatrix} 3 \\\\ 0 \\\\ 5 \\\\ -3 \\end{bmatrix}$"
   ]
  },
  {
   "cell_type": "markdown",
   "metadata": {},
   "source": [
    "#### Part 1: Determine if these four vectors are linearly dependent"
   ]
  },
  {
   "cell_type": "code",
   "execution_count": 14,
   "metadata": {},
   "outputs": [
    {
     "name": "stdout",
     "output_type": "stream",
     "text": [
      "Matrix A:\n",
      "[[ 2  3  1  3]\n",
      " [ 3  1  2  0]\n",
      " [ 5 -2 -1  5]\n",
      " [-3  2  1 -3]]\n",
      "\n",
      "Determinant of A:\n",
      "34.00000000000001\n"
     ]
    }
   ],
   "source": [
    "# Define vectors x, y, z, u\n",
    "x = np.array([2, 3, 5, -3])\n",
    "y = np.array([3, 1, -2, 2])\n",
    "z = np.array([1, 2, -1, 1])\n",
    "u = np.array([3, 0, 5, -3])\n",
    "\n",
    "A = np.column_stack((x, y, z, u)) # Replacing None with your code to represent x,y,z,u in the form of matrix\n",
    "\n",
    "# Print the matrix A\n",
    "print(\"Matrix A:\")\n",
    "print(A)\n",
    "\n",
    "det_A = np.linalg.det(A[:3, :3])\n",
    "print(\"\\nDeterminant of A:\")\n",
    "print(det_A) # Replacing None with your code to \n",
    "            #print the determinate of matrix A.\n",
    "    \n"
   ]
  },
  {
   "cell_type": "markdown",
   "metadata": {},
   "source": [
    "Base on the above result, are vectors x, y, and z are linearly dependent? (Delete the part that is not correct and keep the one that is correct)\n",
    "\n",
    "Answer: they are linearly **(independent)** since the determinant of A is not equal to zero."
   ]
  },
  {
   "cell_type": "markdown",
   "metadata": {},
   "source": [
    "#### Part 2 Determine if any pair of x, y, and z are orthogonal."
   ]
  },
  {
   "cell_type": "code",
   "execution_count": 16,
   "metadata": {},
   "outputs": [
    {
     "name": "stdout",
     "output_type": "stream",
     "text": [
      "Dot product of x and y: -7\n",
      "Dot product of y and z: 9\n",
      "Dot product of x and z: 0\n"
     ]
    }
   ],
   "source": [
    "# Represent x, y, and z as np arrays (1D or 2D)\n",
    "x = np.array([2, 3, 5, -3]) #write your code to create a 1D array of the above x\n",
    "y = np.array([3, 1, -2, 2]) #write your code to create a 1D array of the above y\n",
    "z = np.array([1, 2, -1, 1]) #write your code to create a 1D array of the above z\n",
    "              \n",
    "# Write your code below to calculate the dot product between x, y, and z \n",
    "# and print the result.\n",
    "# Dot product of x and y\n",
    "dot_product_xy = np.dot(x, y)\n",
    "print(\"Dot product of x and y:\", dot_product_xy)\n",
    "\n",
    "# Dot product of y and z\n",
    "dot_product_yz = np.dot(y, z)\n",
    "print(\"Dot product of y and z:\", dot_product_yz)\n",
    "\n",
    "# Dot product of x and z\n",
    "dot_product_xz = np.dot(x, z)\n",
    "print(\"Dot product of x and z:\", dot_product_xz)\n"
   ]
  },
  {
   "cell_type": "markdown",
   "metadata": {},
   "source": [
    "Based on the above results, which pairs of x, y, and z are orthogonal"
   ]
  },
  {
   "cell_type": "markdown",
   "metadata": {},
   "source": [
    "List pairs of x, y, z that are orthogonal:\n",
    "\n",
    "**Answer: Based on the above results, x and z are orthogonal since they are equal to zero**"
   ]
  },
  {
   "cell_type": "markdown",
   "metadata": {},
   "source": [
    "#### Part 3: Calulate Norms of vectors:\n",
    "\n",
    "Write code to calculate the $L_1$, $L_2$, and $L_\\infty$ of $x$. "
   ]
  },
  {
   "cell_type": "code",
   "execution_count": 24,
   "metadata": {},
   "outputs": [
    {
     "name": "stdout",
     "output_type": "stream",
     "text": [
      "13 6.855654600401044 5\n"
     ]
    }
   ],
   "source": [
    "norm1_x = np.sum(np.abs(x)) #write your code to calculate the L1 norm of x\n",
    "norm2_x = np.sqrt(np.sum(x**2)) #write your code to calculate the L2 norm of x\n",
    "norminf_x = np.max(np.abs(x)) #write your code to calculate the L infinity norm of x\n",
    "\n",
    "print(norm1_x, norm2_x, norminf_x) #print the L1, L2, and L infinity norm of x\n",
    "                                    #Do not change this code"
   ]
  },
  {
   "cell_type": "markdown",
   "metadata": {},
   "source": [
    "### Question 3 (5pts) Eigenvalues and Eigenvectors\n",
    "\n",
    "Let $A = \\begin{bmatrix}\n",
    "3 & 7 & -1 \\\\\n",
    "7 & -1 & 3 \\\\\n",
    "-1 & 3 & 4\n",
    "\\end{bmatrix}$.\n",
    "\n",
    "Write code to calculate eigenvalues and eigenvectors of $A$"
   ]
  },
  {
   "cell_type": "code",
   "execution_count": 26,
   "metadata": {},
   "outputs": [
    {
     "name": "stdout",
     "output_type": "stream",
     "text": [
      "-7.094673165098975 [ 0.56730322 -0.78064585  0.2622196 ]\n",
      "8.538615070110026 [-0.74214863 -0.62264607 -0.24804694]\n",
      "4.556058094988959 [-0.35690682  0.05388809  0.93258436]\n"
     ]
    }
   ],
   "source": [
    "A = np.array([[3, 7, -1],\n",
    "              [7, -1, 3],\n",
    "              [-1, 3, 4]]) # Replacing None with your code to represent the matrix A.\n",
    "# Write your code to calculate three eigen values and eigenvectors\n",
    "eigenvalues, eigenvectors = np.linalg.eig(A)\n",
    "\n",
    "L1 = eigenvalues[0] #The first eigen value, relpace None with your code\n",
    "v1 = eigenvectors[:, 0] #The first eigen vector, relpace None with your code\n",
    "L2 = eigenvalues[1] #The second eigen value, relpace None with your code\n",
    "v2 = eigenvectors[:, 1] #The second eigen vector, relpace None with your code\n",
    "L3 = eigenvalues[2] #The third eigen value, relpace None with your code\n",
    "v3 = eigenvectors[:, 2] #The third eigen vector, relpace None with your code\n",
    "\n",
    "print(L1, v1) # print the first eigen value and the first eigen vector\n",
    "print(L2, v2) # print the second eigen value and the second eigen vector\n",
    "print(L3, v3) # print the third eigen value and the third"
   ]
  },
  {
   "cell_type": "markdown",
   "metadata": {},
   "source": [
    "Write code to verify that the eigenvalues and eigenvectores you calculated are correct. You need to verify that:\n",
    "\n",
    "$A v1 = \\lambda v1$. "
   ]
  },
  {
   "cell_type": "code",
   "execution_count": 31,
   "metadata": {},
   "outputs": [
    {
     "name": "stdout",
     "output_type": "stream",
     "text": [
      "A v1: [-4.0248309   5.53842716 -1.86036236]\n",
      "L1 v1: [-4.0248309   5.53842716 -1.86036236]\n",
      "\n",
      "A v2: [-6.33692144 -5.31653514 -2.11797736]\n",
      "L2 v2: [-6.33692144 -5.31653514 -2.11797736]\n",
      "\n",
      "A v3: [-1.62608821  0.24551726  4.24890854]\n",
      "L3 v3: [-1.62608821  0.24551726  4.24890854]\n",
      "The 𝐴𝑣1=𝜆𝑣1, 𝐴𝑣2=𝜆𝑣2, and 𝐴𝑣3=𝜆𝑣3\n"
     ]
    }
   ],
   "source": [
    "print(\"A v1:\", A @ v1) # write your code to print A v1\n",
    "print(\"L1 v1:\", L1 * v1) # write your code to print L1 v1\n",
    "print(\"\\nA v2:\", A @ v2) # write your code to print A v2\n",
    "print(\"L2 v2:\", L2 * v2) # write your code to print L2 v2\n",
    "print(\"\\nA v3:\", A @ v3) # write your code to print A v3\n",
    "print(\"L3 v3:\", L3 * v3) # write your code to print L3 v3\n",
    "print(\"The 𝐴𝑣1=𝜆𝑣1, 𝐴𝑣2=𝜆𝑣2, and 𝐴𝑣3=𝜆𝑣3\")"
   ]
  },
  {
   "cell_type": "code",
   "execution_count": null,
   "metadata": {},
   "outputs": [],
   "source": []
  }
 ],
 "metadata": {
  "kernelspec": {
   "display_name": "Python 3 (ipykernel)",
   "language": "python",
   "name": "python3"
  },
  "language_info": {
   "codemirror_mode": {
    "name": "ipython",
    "version": 3
   },
   "file_extension": ".py",
   "mimetype": "text/x-python",
   "name": "python",
   "nbconvert_exporter": "python",
   "pygments_lexer": "ipython3",
   "version": "3.9.18"
  }
 },
 "nbformat": 4,
 "nbformat_minor": 4
}
